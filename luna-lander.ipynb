{
  "cells": [
    {
      "cell_type": "markdown",
      "metadata": {
        "id": "m2s4kN_QPQVe"
      },
      "source": [
        "# **Deep Q-Networks (DQN) **\n",
        "\n",
        "<img src=\"https://drive.google.com/thumbnail?id=1sNbFSGUMoRekB-3eZsrjOyK9uo4l7GuG\" alt=\"Robot says hello!\">\n",
        "\n",
        "<hr>\n",
        "\n",
        "### **Part 6**: Reinforcement Learning (from Zero to One)\n",
        "\n",
        "*African Institute for Mathematical Sciences (AIMS), South Africa\n",
        "11 November, 2024*\n",
        "\n",
        "**Arnu Pretorius** - Staff Research Scientist, InstaDeep\n",
        "\n",
        "*Credits*: Adapted from Deep Learning Indaba 2022. Apache License 2.0.\n"
      ]
    },
    {
      "cell_type": "markdown",
      "metadata": {
        "id": "6EqhIg1odqg0"
      },
      "source": [
        "## Setup"
      ]
    },
    {
      "cell_type": "code",
      "execution_count": 1,
      "metadata": {
        "id": "4boGA9rYdt9l"
      },
      "outputs": [],
      "source": [
        "# @title Install required packages (run me) { display-mode: \"form\" }\n",
        "# @markdown This may take a minute or two to complete.\n",
        "%%capture\n",
        "!sudo apt install swig\n",
        "!pip install jaxlib\n",
        "!pip install jax\n",
        "!pip install git+https://github.com/deepmind/dm-haiku\n",
        "!pip install gym\n",
        "!pip install gym[box2d]\n",
        "!pip install optax\n",
        "!pip install matplotlib\n",
        "!pip install chex"
      ]
    },
    {
      "cell_type": "code",
      "execution_count": 2,
      "metadata": {
        "id": "gwbqggmcRjMy"
      },
      "outputs": [],
      "source": [
        "# @title Import required packages (run me) { display-mode: \"form\" }\n",
        "%%capture\n",
        "import copy\n",
        "from shutil import rmtree # deleting directories\n",
        "import random\n",
        "import collections # useful data structures\n",
        "import numpy as np\n",
        "import gym # reinforcement learning environments\n",
        "from gym.wrappers import RecordVideo\n",
        "import jax\n",
        "import jax.numpy as jnp # jax numpy\n",
        "import haiku as hk # jax neural network library\n",
        "import optax # jax optimizer library\n",
        "import matplotlib.pyplot as plt # graph plotting library\n",
        "from IPython.display import HTML\n",
        "from base64 import b64encode\n",
        "import chex\n",
        "\n",
        "# Hide warnings\n",
        "import warnings\n",
        "warnings.filterwarnings('ignore')"
      ]
    },
    {
      "cell_type": "code",
      "source": [
        "# Create the environment\n",
        "env_name = \"LunarLander-v2\"\n",
        "env = gym.make(env_name)\n",
        "\n",
        "# Reset the environment\n",
        "s_0 = env.reset()\n",
        "print(\"Initial State::\", s_0)\n",
        "\n",
        "# Get environment obs space\n",
        "obs_shape = env.observation_space.shape\n",
        "print(\"Environment Obs Space Shape:\", obs_shape)\n",
        "\n",
        "# Get action space - e.g. discrete or continuous\n",
        "print(f\"Environment action space: {env.action_space}\")\n",
        "\n",
        "# Get num actions\n",
        "num_actions = env.action_space.n\n",
        "print(f\"Number of actions: {num_actions}\")"
      ],
      "metadata": {
        "id": "OJge4jtY9pkz",
        "colab": {
          "base_uri": "https://localhost:8080/"
        },
        "outputId": "847ea2c6-afc7-4c23-b37e-0234a7702e5b"
      },
      "execution_count": 4,
      "outputs": [
        {
          "output_type": "stream",
          "name": "stdout",
          "text": [
            "Initial State:: [ 0.00364876  1.3988569   0.3695472  -0.5361563  -0.00422105 -0.08370804\n",
            "  0.          0.        ]\n",
            "Environment Obs Space Shape: (8,)\n",
            "Environment action space: Discrete(4)\n",
            "Number of actions: 4\n"
          ]
        }
      ]
    },
    {
      "cell_type": "markdown",
      "metadata": {
        "id": "D_HHzFTOc-Qr"
      },
      "source": [
        "## **Q-Learning**"
      ]
    },
    {
      "cell_type": "markdown",
      "metadata": {
        "id": "lF1nOZrUSzhE"
      },
      "source": [
        "\n",
        "In Q-learning the agent learns a function that approximates the **value** of state-action pairs. By *value* we mean the return you expect to receive if you start in a particular state $S_t$, take a particular action $A_t$, and then act according to a particular policy $\\pi$ forever after. The state-action value function of policy $\\pi$ is given by\n",
        "\n",
        "$Q_\\pi(s,a)=\\mathrm{E}_{\\pi}\\left[G_t \\mid S_t=s,\\ A_t=a\\right]$.\n",
        "\n",
        "We say that the value function $Q_\\pi(s,a)$ is the **optimal** value function if the policy $\\pi$ is an optimal policy. We denote the optimal value function as follows:\n",
        "\n",
        "$Q_\\ast(s,a)=\\max \\limits_\\pi \\  \\mathrm{E}_{\\pi}\\left[G_t \\mid S_t=s,\\ A_t=a\\right]$\n",
        "\n",
        "There is an important relationship between the optimal action $a_\\ast$ in a state $s$ and the optimal state-action value function $Q_\\ast$. Namely, the optimal action $a_\\ast$ in state $s$ is equal to the action that maximises the optimal state-action value function. This relationship naturally induces an optimal policy:\n",
        "\n",
        "$\\pi_\\ast(s)=\\arg \\max \\limits_a\\ Q_\\ast(s, a)$"
      ]
    },
    {
      "cell_type": "markdown",
      "metadata": {
        "id": "H2x2tqvZSihz"
      },
      "source": [
        "### **Greedy action selection**\n",
        "\n",
        "---\n",
        "> **For you!**\n",
        ">\n",
        "> Implement a greedy action selector. This should be a function that, given a vector of Q-values, returns the action with the largest Q-value.\n",
        "---\n",
        "\n",
        "**Useful methods:**\n",
        "*   `jnp.argmax` ([docs](https://jax.readthedocs.io/en/latest/_autosummary/jax.numpy.argmax.html)) [note from above we had `import jax.numpy as jnp`]"
      ]
    },
    {
      "cell_type": "code",
      "execution_count": 6,
      "metadata": {
        "id": "Nn9P1YdzTIDU"
      },
      "outputs": [],
      "source": [
        "# Implement a function takes q-values as input and returns the greedy_action\n",
        "def select_greedy_action(q_values):\n",
        "\n",
        "  # YOUR CODE\n",
        "  action = jnp.argmax(q_values)\n",
        "  # END YOUR CODE\n",
        "\n",
        "  return action"
      ]
    },
    {
      "cell_type": "code",
      "execution_count": 7,
      "metadata": {
        "id": "ZBzLr_G7QKXR",
        "colab": {
          "base_uri": "https://localhost:8080/"
        },
        "outputId": "cfae7993-b3cb-415d-d157-c787dd23d700"
      },
      "outputs": [
        {
          "output_type": "stream",
          "name": "stdout",
          "text": [
            "Looks good!\n"
          ]
        }
      ],
      "source": [
        "# @title Check your implementation (run me) {display-mode: \"form\"}\n",
        "\n",
        "try:\n",
        "  q_values = jnp.array([1,1,3,4])\n",
        "  action = select_greedy_action(q_values)\n",
        "\n",
        "  if action != 3:\n",
        "    print(\"Oops! It seems your implementation is incorrect.\")\n",
        "  else:\n",
        "    print(\"Looks good!\")\n",
        "except Exception as e:\n",
        "  print(\"Oops! It seems you didn't implement anything?\")\n"
      ]
    },
    {
      "cell_type": "markdown",
      "metadata": {
        "id": "PFQUlqZ4ZyLp"
      },
      "source": [
        "### **Q-Network**\n",
        "In Q-learning, we parametrise the Q-function using a neural network $Q_\\phi$. We obtain a policy from the Q-network by always choosing the action with the *greatest* value:\n",
        "\n",
        "$\\hat{\\pi}_\\phi(s)=\\arg \\max \\limits_a\\ Q_{\\phi}(s, a)$\n",
        "\n",
        "We use a neural network to approximate this Q-function. The network will take an observation as input and then output a Q-value for each of the available actions. So in the case of CartPole, the output of the network will have size $2$."
      ]
    },
    {
      "cell_type": "code",
      "execution_count": 8,
      "metadata": {
        "id": "9wU1soJYZyLp"
      },
      "outputs": [],
      "source": [
        "def build_network(num_actions: int, layers=[20, 20]) -> hk.Transformed:\n",
        "  \"\"\"Factory for a simple MLP network for approximating Q-values.\"\"\"\n",
        "\n",
        "  def q_network(obs):\n",
        "    network = hk.Sequential(\n",
        "        [hk.Flatten(),\n",
        "         hk.nets.MLP(layers + [num_actions])])\n",
        "    return network(obs)\n",
        "\n",
        "  return hk.without_apply_rng(hk.transform(q_network))"
      ]
    },
    {
      "cell_type": "markdown",
      "metadata": {
        "id": "sUwG-4qTS1zx"
      },
      "source": [
        "Let's initialise our Q-network and get the initial parameters."
      ]
    },
    {
      "cell_type": "code",
      "execution_count": 31,
      "metadata": {
        "id": "1uvq5n2cS9lu",
        "colab": {
          "base_uri": "https://localhost:8080/"
        },
        "outputId": "5ea3c5fb-fc9a-4f2d-9398-0761691a8055"
      },
      "outputs": [
        {
          "output_type": "stream",
          "name": "stdout",
          "text": [
            "Q-Learning params: dict_keys(['mlp/~/linear_0', 'mlp/~/linear_1', 'mlp/~/linear_2'])\n"
          ]
        }
      ],
      "source": [
        "# Initialise Q-network\n",
        "Q_NETWORK = build_network(num_actions=num_actions, layers=[128, 128]) # two actions\n",
        "\n",
        "dummy_obs = jnp.zeros((1,*obs_shape), jnp.float32) # a dummy observation like the one in CartPole\n",
        "\n",
        "random_key = jax.random.PRNGKey(42) # random key\n",
        "Q_NETWORK_PARAMS = Q_NETWORK.init(random_key, dummy_obs) # Get initial params\n",
        "\n",
        "print(\"Q-Learning params:\", Q_NETWORK_PARAMS.keys())"
      ]
    },
    {
      "cell_type": "markdown",
      "metadata": {
        "id": "vbLig3uSZyLp"
      },
      "source": [
        "### **The Bellman Equations**\n",
        "The value function can be written recursively as:\n",
        "\n",
        "$Q_{\\pi}(s, a) = \\mathbb{E}_{s^\\prime \\sim p(s^\\prime |s, a)}\\left[r + \\gamma\\underset{a^{\\prime} \\sim \\pi}{\\mathrm{E}}\\left[Q_{\\pi}\\left(s^{\\prime}, a^{\\prime}\\right)\\right]\\right]$,\n",
        "\n",
        "Intuitively, this equation says that the value of the action $a$ you took in the state $s$ is equal to the reward $r$ you expect to get, plus the value you expect to get in the next state $s'$ you land in given that you will choose your next action $a'$ with the policy $\\pi$. The Bellman equation for the optimal value function is:\n",
        "\n",
        "$Q_{*}(s, a) = \\mathbb{E}_{s^\\prime \\sim p(s^\\prime |s, a)}\\left[r +\\ \\gamma \\underset{a^{\\prime}}{\\max}\\ Q_{*}(s^{\\prime}, a^{\\prime})\\right]$\n",
        "\n",
        "Notice that instead of chosing your next action $a'$ with policy $\\pi$, we choose the action with the greatest Q-value."
      ]
    },
    {
      "cell_type": "markdown",
      "metadata": {
        "id": "DsOJi5G8ZyLp"
      },
      "source": [
        "### **The Bellman Backup**\n",
        "To learn to approximate the optimal Q-value function, we can use the right-hand side of the Bellman equation as an update rule. In other words, suppose we have a Q-network $Q_\\phi$, with parameters $\\phi$, then we can iteratively update the parameters such that\n",
        "\n",
        "$Q_\\phi(s,a)\\leftarrow r + \\gamma \\underset{a'}{\\max}\\ Q_\\phi(s', a')$.\n",
        "\n",
        "Intuitively, this says that the approximation of the Q-value of action $a$ in state $s$ should be updated such that it is closer to being equal to the reward received from the environment $r$ plus the value of the best possible action in the next state $s'$. We can perform this optimisation by minimising the difference between the left and right-hand side, with respect to the parameters $\\phi$ using gradient descent. We can measure the difference between the two values using the [squared-error](https://en.wikipedia.org/wiki/Mean_squared_error#Loss_function).\n",
        "\n",
        "---\n",
        "> **For you!**\n",
        ">\n",
        "> Implement the squared-error function.\n",
        "---\n",
        "\n",
        "**Useful functions**\n",
        "* `jnp.square` ([docs](https://jax.readthedocs.io/en/latest/_autosummary/jax.numpy.square.html))"
      ]
    },
    {
      "cell_type": "code",
      "execution_count": 32,
      "metadata": {
        "id": "PTto__ohZyLp"
      },
      "outputs": [],
      "source": [
        "def compute_squared_error(pred, target):\n",
        "  # YOUR CODE\n",
        "  squared_error = jnp.square(pred - target)\n",
        "  # END YOUR CODE\n",
        "\n",
        "  return squared_error"
      ]
    },
    {
      "cell_type": "code",
      "execution_count": 33,
      "metadata": {
        "id": "wGhX8XTFVPVU",
        "colab": {
          "base_uri": "https://localhost:8080/"
        },
        "outputId": "23f2d8e1-46b7-4a57-9672-a8b84e8bc8d6"
      },
      "outputs": [
        {
          "output_type": "stream",
          "name": "stdout",
          "text": [
            "Looks good!\n"
          ]
        }
      ],
      "source": [
        "#@title Check your implementation (run me) {display-mode: \"form\"}\n",
        "\n",
        "try:\n",
        "  result = compute_squared_error(1, 4)\n",
        "\n",
        "  if result != 9:\n",
        "    print(\"Oops! It seems your implementation is incorrect.\")\n",
        "  else:\n",
        "    print(\"Looks good!\")\n",
        "except Exception as e:\n",
        "  print(\"Oops! It seems you didn't implement anything?\")"
      ]
    },
    {
      "cell_type": "markdown",
      "metadata": {
        "id": "ycpZVkgdZyLp"
      },
      "source": [
        "\n",
        "\n",
        "---\n",
        "> **For you!**\n",
        ">\n",
        "> Implement a function that computes the **Bellman target** (right-hand side of the Bellman equation). If the episode is at the last timestep (i.e. done==1.0), then the Bellman target should be equal to the reward, with no extra value at the end.\n",
        "---\n",
        "\n",
        "**Useful functions**\n",
        "* `jnp.max` ([docs](https://jax.readthedocs.io/en/latest/_autosummary/jax.numpy.max.html))"
      ]
    },
    {
      "cell_type": "code",
      "execution_count": 34,
      "metadata": {
        "id": "961_OllWZyLp"
      },
      "outputs": [],
      "source": [
        "# Bellman target\n",
        "def compute_bellman_target(reward, done, next_q_values, gamma=0.99):\n",
        "  \"\"\"A function to compute the bellman target.\n",
        "\n",
        "  Args:\n",
        "      reward: a scalar reward.\n",
        "      done: a scalar of value either 1.0 or 0.0, indicating if the transition is a terminal one.\n",
        "      next_q_values: a vector of q_values for the next state. One for each action.\n",
        "      gamma: a scalar discount value between 0 and 1.\n",
        "\n",
        "    -- IMPORTANT NOTE: you should keep the default gamma value to check your implementation\n",
        "\n",
        "  Returns:\n",
        "      A scalar equal to the bellman target.\n",
        "\n",
        "  \"\"\"\n",
        "  # YOUR CODE\n",
        "  bellman_target = reward + gamma*jnp.max(next_q_values)*(1 - done)\n",
        "  # END YOUR CODE\n",
        "\n",
        "  return bellman_target"
      ]
    },
    {
      "cell_type": "code",
      "execution_count": 35,
      "metadata": {
        "id": "E5RAhegOWAkC",
        "colab": {
          "base_uri": "https://localhost:8080/"
        },
        "outputId": "8b6d104a-58e7-4c87-af5b-00f914e4a2e8"
      },
      "outputs": [
        {
          "output_type": "stream",
          "name": "stdout",
          "text": [
            "Looks good!\n"
          ]
        }
      ],
      "source": [
        "#@title Check your implementation (run me) {display-mode: \"form\"}\n",
        "\n",
        "try:\n",
        "  # not done\n",
        "  result1 = compute_bellman_target(1, 0.0, np.array([3,2], \"float32\"))\n",
        "\n",
        "  # done\n",
        "  result2 = compute_bellman_target(1, 1.0, np.array([3,2], \"float32\"))\n",
        "\n",
        "  if np.abs(result1 - 3.97) > 0.0001 or result2 != 1:\n",
        "    print(\"Oops! It seems your implementation is incorrect.\")\n",
        "  else:\n",
        "    print(\"Looks good!\")\n",
        "except Exception as e:\n",
        "  print(\"Oops! It seems you didn't implement anything?\")"
      ]
    },
    {
      "cell_type": "markdown",
      "metadata": {
        "id": "8sIjrHSJZyLq"
      },
      "source": [
        "We can now combine these two functions to compute the loss for Q-learning. The Q-learning loss is equal to the squared difference between the predicted Q-value of an action and its corresponding Bellman target.\n",
        "\n",
        "---\n",
        "> **For you!**\n",
        ">\n",
        "> Implement the Q-learning loss.\n",
        "---\n",
        "\n"
      ]
    },
    {
      "cell_type": "code",
      "execution_count": 36,
      "metadata": {
        "id": "LJY_kpFcZyLq"
      },
      "outputs": [],
      "source": [
        "def q_learning_loss(q_values, action, reward, done, next_q_values):\n",
        "    \"\"\"Implementation of the Q-learning loss.T\n",
        "\n",
        "    Args:\n",
        "        q_values: a vector of Q-values, one for each action.\n",
        "        action: an integer, giving the action that was chosen. q_values[action] is the value of the chose action.\n",
        "        done: is a scalar that indicates if this is a terminal transition.\n",
        "        next_q_values: a vector of Q-values in the next state.\n",
        "    Returns:\n",
        "        The squared difference between the q_value of the chosen action and the bellman target.\n",
        "    \"\"\"\n",
        "    # YOUR CODE\n",
        "    chosen_action_q_value = q_values[action] # q_value of action, use array indexing\n",
        "    bellman_target = compute_bellman_target(reward, done, next_q_values, gamma=0.99)\n",
        "\n",
        "    # print(chosen_action_q_value, bellman_target)\n",
        "    squared_error = compute_squared_error(chosen_action_q_value, bellman_target)\n",
        "    # END YOUR CODE\n",
        "\n",
        "    return squared_error"
      ]
    },
    {
      "cell_type": "code",
      "execution_count": 37,
      "metadata": {
        "id": "1aZRn1qaWx2M",
        "colab": {
          "base_uri": "https://localhost:8080/"
        },
        "outputId": "6e964253-154e-4fec-8f17-ab711d171f1f"
      },
      "outputs": [
        {
          "output_type": "stream",
          "name": "stdout",
          "text": [
            "8.820902\n",
            "Looks good!\n"
          ]
        }
      ],
      "source": [
        "#@title Check your implementation (run me) {display-mode: \"form\"}\n",
        "\n",
        "try:\n",
        "  result = q_learning_loss(np.array([3,2], \"float32\"), 1, 2, 0.0, np.array([3,2], \"float32\"))\n",
        "  print(result)\n",
        "\n",
        "  if np.abs(result - 8.820902) > 0.0001:\n",
        "    print(\"Oops! It seems your implementation is incorrect.\")\n",
        "  else:\n",
        "    print(\"Looks good!\")\n",
        "except Exception as e:\n",
        "  print(\"Oops! It seems you didn't implement anything?\")"
      ]
    },
    {
      "cell_type": "markdown",
      "metadata": {
        "id": "b4YnSUfJZyLq"
      },
      "source": [
        "### **Target Q-network**\n",
        "Notice that when we compute the bellman target we are using our Q-network $Q_\\phi$ to compute the value for the next state $S_{t+1}$. We are basically using our latest approximation of the Q-function to compute the target of our next approximation. Using an approximation to compute the target for your next approximation, is called **bootstrapping**.\n",
        "\n",
        "Unfortunately, if we naively bootstrap like this, it can make training a neural network very unstable. To mitigage this we can instead use a different set of parameters $\\bar{\\phi}$ to compute the values at state $S_{t+1}$. We will keep the parameters $\\bar{\\phi}$ fixed and only periodically update them to be equal to the latest online parameters $\\phi$ every couple of training steps *(say 100)*. This serves to keep the bellman targets fixed for a couple training steps to help reduce the instability due to bootstrapping.\n",
        "\n",
        "\n",
        "We will need to keep track of the latest (online) parameters $\\phi$, as well as the target networks parameters $\\bar{\\phi}$. Lets make a `NamedTuple` to store these two values. We will also need to keep track of the number of learner steps we have taken, so that we know when to update the target network. Lets store a `count` of the learn steps in the `learn_state`."
      ]
    },
    {
      "cell_type": "code",
      "execution_count": 38,
      "metadata": {
        "id": "DvZqUKmq6L7k"
      },
      "outputs": [],
      "source": [
        "# Store online and target parameters\n",
        "QLearnParams = collections.namedtuple(\"Params\", [\"online\", \"target\"])\n",
        "\n",
        "# Q-learn-state\n",
        "QLearnState = collections.namedtuple(\"LearnerState\", [\"count\", \"optim_state\"])"
      ]
    },
    {
      "cell_type": "markdown",
      "metadata": {
        "id": "CJWH2_kNZsau"
      },
      "source": [
        "We will be using **Optax** to optimize our neural network. We store the state of the optimizer in the `learn_state` above. Lets now instantiate the optimizer and add the initial Q-network parameters to a `QLearnParams` object."
      ]
    },
    {
      "cell_type": "code",
      "execution_count": 39,
      "metadata": {
        "id": "HwqKTN6BaAXE"
      },
      "outputs": [],
      "source": [
        "# Initialise Q-network optimizer\n",
        "Q_LEARN_OPTIMIZER = optax.adam(1e-3) # learning rate\n",
        "\n",
        "Q_LEARN_OPTIM_STATE = Q_LEARN_OPTIMIZER.init(Q_NETWORK_PARAMS) # initial optim state\n",
        "\n",
        "# Create Learn State\n",
        "Q_LEARNING_LEARN_STATE = QLearnState(0, Q_LEARN_OPTIM_STATE) # count set to zero initially\n",
        "\n",
        "# Add initial Q-network weights to QLearnParams object\n",
        "Q_LEARNING_PARAMS = QLearnParams(online=Q_NETWORK_PARAMS, target=Q_NETWORK_PARAMS) # target equal to online"
      ]
    },
    {
      "cell_type": "markdown",
      "metadata": {
        "id": "xj89M8LgZlFe"
      },
      "source": [
        "Now we can implement a simple function that updates the target network parameters to equal the latest online network parameters every 100 training steps."
      ]
    },
    {
      "cell_type": "code",
      "execution_count": 40,
      "metadata": {
        "id": "SKrg_3rO6cCL"
      },
      "outputs": [],
      "source": [
        "def update_target_params(learn_state, online_weights, target_weights, update_frequency=200):\n",
        "  \"\"\"A function to update target params every 100 training steps\"\"\"\n",
        "\n",
        "  target = jax.lax.cond(\n",
        "      jnp.mod(learn_state.count, update_frequency) == 0,\n",
        "      lambda x, y: x,\n",
        "      lambda x, y: y,\n",
        "      online_weights,\n",
        "      target_weights\n",
        "  )\n",
        "\n",
        "  params = QLearnParams(online_weights, target)\n",
        "\n",
        "  return params"
      ]
    },
    {
      "cell_type": "markdown",
      "metadata": {
        "id": "KoiaYSo9ZyLq"
      },
      "source": [
        "### **Q-learning loss**\n",
        "We now have everything we need to implement the `q_learn` function which takes some batch of transitions and does a step of Q-learning to update the network paramters. But first we use `jax.vmap` to modify the `q_learning_loss` function so that it accepts batches of transitions. In addition, we will compute the Q-values by passing the observations through the `Q_NETWORK` and the target Q-values using the target parameters of the `Q_NETWORK`."
      ]
    },
    {
      "cell_type": "code",
      "execution_count": 41,
      "metadata": {
        "id": "hnrsGppWZyLq"
      },
      "outputs": [],
      "source": [
        "def batched_q_learning_loss(online_params, target_params, obs, actions, rewards, next_obs, dones):\n",
        "    q_values = Q_NETWORK.apply(online_params, obs) # use the online parameters\n",
        "    next_q_values = Q_NETWORK.apply(target_params, next_obs) # use the target parameters\n",
        "    squared_error = jax.vmap(q_learning_loss)(q_values, actions, rewards, dones, next_q_values) # vmap q_learning_loss\n",
        "    mean_squared_error = jnp.mean(squared_error) # mean squared error over batch\n",
        "    return mean_squared_error"
      ]
    },
    {
      "cell_type": "markdown",
      "metadata": {
        "id": "CU8vo9ZebnEa"
      },
      "source": [
        "Now we can create the `q_learn` function which computes the gradient of the `batched_q_learning_loss` and then uses an Optax optimizer to update the network weights and then finally (maybe) updates the target parameters."
      ]
    },
    {
      "cell_type": "code",
      "execution_count": 42,
      "metadata": {
        "id": "6BYoX2W_ZyLr"
      },
      "outputs": [],
      "source": [
        "def q_learn(rng, params, learner_state, memory):\n",
        "  # Compute gradients\n",
        "  grad_loss = jax.grad(batched_q_learning_loss)(params.online, params.target, memory.obs,\n",
        "                                          memory.action, memory.reward,\n",
        "                                          memory.next_obs, memory.done,\n",
        "                                          ) # jax.grad\n",
        "\n",
        "  # Get updates\n",
        "  updates, opt_state = Q_LEARN_OPTIMIZER.update(grad_loss, learner_state.optim_state)\n",
        "\n",
        "  # Apply them\n",
        "  new_weights = optax.apply_updates(params.online, updates)\n",
        "\n",
        "  # Maybe update target network\n",
        "  params = update_target_params(learner_state, new_weights, params.target)\n",
        "\n",
        "  # Increment learner step counter\n",
        "  learner_state = QLearnState(learner_state.count + 1, opt_state)\n",
        "\n",
        "  return params, learner_state"
      ]
    },
    {
      "cell_type": "markdown",
      "source": [
        "### **A General Purpose RL Training Loop**\n",
        "We have implemented a general purpose RL training loop for you. The training loop takes several arguments as input but the three most important for you to understand are `agent_select_action_func`, `agent_learn_func` and the `agent_memory`.\n",
        "\n",
        "* The `agent_select_action_func` should take an observation and set of `agent_params` as input and should return an action.\n",
        "* The `agent_learn_func` should take the agent's parameters and some \"memories\" as input and then update and return the agents new parameters.\n",
        "* The `agent_memory` is a general purpose module we define that can store some relevant information about the agent's experiences in the environment that can be used in the `agent_learn_func`.\n",
        "\n",
        "Below is the training loop function. You are welcome to go through the code and try to understand it but this is not strictly required."
      ],
      "metadata": {
        "id": "Jg9WeeChVYzG"
      }
    },
    {
      "cell_type": "code",
      "source": [
        "#@title Training loop (run me) { display-mode: \"form\" }\n",
        "\n",
        "# NamedTuple to store transitions\n",
        "Transition = collections.namedtuple(\"Transition\", [\"obs\", \"action\", \"reward\", \"next_obs\", \"done\"])\n",
        "\n",
        "# Training Loop\n",
        "def run_training_loop(env_name, agent_params, agent_select_action_func,\n",
        "    agent_actor_state=None, agent_learn_func=None, agent_learner_state=None,\n",
        "    agent_memory=None, num_episodes=1000, evaluator_period=10,\n",
        "    evaluation_episodes=8, learn_steps_per_episode=1,\n",
        "    train_every_timestep=False, video_subdir=\"\",):\n",
        "    \"\"\"\n",
        "    This function runs several episodes in an environment and periodically does\n",
        "    some agent learning and evaluation.\n",
        "\n",
        "    Args:\n",
        "        env: a gym environment.\n",
        "        agent_params: an object to store parameters that the agent uses.\n",
        "        agent_select_func: a function that does action selection for the agent.\n",
        "        agent_actor_state (optional): an object that stores the internal state\n",
        "            of the agents action selection function.\n",
        "        agent_learn_func (optional): a function that does some learning for the\n",
        "            agent by updating the agent parameters.\n",
        "        agent_learn_state (optional): an object that stores the internal state\n",
        "            of the agent learn function.\n",
        "        agent_memory (optional): an object for storing an retrieving historical\n",
        "            experience.\n",
        "        num_episodes: how many episodes to run.\n",
        "        evaluator_period: how often to run evaluation.\n",
        "        evaluation_episodes: how many evaluation episodes to run.\n",
        "        train_every_timestep: whether to train every timestep rather than at the end\n",
        "            of the episode.\n",
        "        video_subdir: subdirectory to store epsiode recordings.\n",
        "\n",
        "    Returns:\n",
        "        episode_returns: list of all the episode returns.\n",
        "        evaluator_episode_returns: list of all the evaluator episode returns.\n",
        "    \"\"\"\n",
        "\n",
        "    # Setup Cartpole environment and recorder\n",
        "    env = gym.make(env_name, render_mode=\"rgb_array\") # training environment\n",
        "    eval_env = gym.make(env_name, render_mode=\"rgb_array\") # evaluation environment\n",
        "\n",
        "    # Video dir\n",
        "    video_dir = \"./video\"+\"/\"+video_subdir\n",
        "\n",
        "    # Clear video dir\n",
        "    try:\n",
        "      rmtree(video_dir)\n",
        "    except:\n",
        "      pass\n",
        "\n",
        "    # Wrap in recorder\n",
        "    env = RecordVideo(env, video_dir+\"/train\", episode_trigger=lambda x: (x % evaluator_period) == 0)\n",
        "    eval_env = RecordVideo(eval_env, video_dir+\"/eval\", episode_trigger=lambda x: (x % evaluation_episodes) == 0)\n",
        "\n",
        "    # JAX random number generator\n",
        "    rng = hk.PRNGSequence(jax.random.PRNGKey(0))\n",
        "    # env.seed(0) # seed environment for reproducability\n",
        "    random.seed(0)\n",
        "\n",
        "    episode_returns = [] # List to store history of episode returns.\n",
        "    evaluator_episode_returns = [] # List to store history of evaluator returns.\n",
        "    timesteps = 0\n",
        "    for episode in range(num_episodes):\n",
        "\n",
        "        # Reset environment.\n",
        "        obs = env.reset()\n",
        "        episode_return = 0\n",
        "        done = False\n",
        "\n",
        "        while not done:\n",
        "\n",
        "            # Agent select action.\n",
        "            action, agent_actor_state = agent_select_action_func(\n",
        "                                            next(rng),\n",
        "                                            agent_params,\n",
        "                                            agent_actor_state,\n",
        "                                            np.array(obs)\n",
        "                                        )\n",
        "\n",
        "            # Step environment.\n",
        "            next_obs, reward, done, _ = env.step(int(action))\n",
        "\n",
        "            # Pack into transition.\n",
        "            transition = Transition(obs, action, reward, next_obs, done)\n",
        "\n",
        "            # Add transition to memory.\n",
        "            if agent_memory: # check if agent has memory\n",
        "              agent_memory.push(transition)\n",
        "\n",
        "            # Add reward to episode return.\n",
        "            episode_return += reward\n",
        "\n",
        "            # Set obs to next obs before next environment step. CRITICAL!!!\n",
        "            obs = next_obs\n",
        "\n",
        "            # Increment timestep counter\n",
        "            timesteps += 1\n",
        "\n",
        "            # Maybe learn every timestep\n",
        "            if train_every_timestep and (timesteps % 4 == 0) and agent_memory and agent_memory.is_ready(): # Make sure memory is ready\n",
        "                # First sample memory and then pass the result to the learn function\n",
        "                memory = agent_memory.sample()\n",
        "                agent_params, agent_learner_state = agent_learn_func(\n",
        "                                                        next(rng),\n",
        "                                                        agent_params,\n",
        "                                                        agent_learner_state,\n",
        "                                                        memory\n",
        "                                                    )\n",
        "\n",
        "        episode_returns.append(episode_return)\n",
        "\n",
        "        # At the end of every episode we do a learn step.\n",
        "        if agent_memory and agent_memory.is_ready(): # Make sure memory is ready\n",
        "\n",
        "            for _ in range(learn_steps_per_episode):\n",
        "                # First sample memory and then pass the result to the learn function\n",
        "                memory = agent_memory.sample()\n",
        "                agent_params, agent_learner_state = agent_learn_func(\n",
        "                                                        next(rng),\n",
        "                                                        agent_params,\n",
        "                                                        agent_learner_state,\n",
        "                                                        memory\n",
        "                                                    )\n",
        "\n",
        "        if (episode % evaluator_period) == 0: # Do evaluation\n",
        "\n",
        "            evaluator_episode_return = 0\n",
        "            for eval_episode in range(evaluation_episodes):\n",
        "                obs = eval_env.reset()\n",
        "                done = False\n",
        "                while not done:\n",
        "                    action, _ = agent_select_action_func(\n",
        "                                    next(rng),\n",
        "                                    agent_params,\n",
        "                                    agent_actor_state,\n",
        "                                    np.array(obs),\n",
        "                                    evaluation=True\n",
        "                                )\n",
        "\n",
        "                    obs, reward, done, _ = eval_env.step(int(action))\n",
        "\n",
        "                    evaluator_episode_return += reward\n",
        "\n",
        "            evaluator_episode_return /= evaluation_episodes\n",
        "\n",
        "            evaluator_episode_returns.append(evaluator_episode_return)\n",
        "\n",
        "            logs = [\n",
        "                    f\"Episode: {episode}\",\n",
        "                    f\"Epsilon: {get_epsilon(timesteps)}\",\n",
        "                    f\"Episode Return: {episode_return}\",\n",
        "                    f\"Average Episode Return: {np.mean(episode_returns[-20:])}\",\n",
        "                    f\"Evaluator Episode Return: {evaluator_episode_return}\"\n",
        "            ]\n",
        "\n",
        "            print(*logs, sep=\"\\t\") # Print the logs\n",
        "\n",
        "    env.close()\n",
        "    eval_env.close()\n",
        "\n",
        "    return episode_returns, evaluator_episode_returns"
      ],
      "metadata": {
        "id": "4jra0ykU-GLN"
      },
      "execution_count": 43,
      "outputs": []
    },
    {
      "cell_type": "markdown",
      "metadata": {
        "id": "VpZsKHssZyLq"
      },
      "source": [
        "### **Replay Buffer**\n",
        "For Q-learning, we will need an agent memory that stores entire transitions: `obs`, `action`, `reward`, `next_obs`, `done`. When we retrieve transitions from the memory, they should be chosen randomly from all of the transitions collected so far. In RL, we often call such a module a **replay buffer**. One benefit of using a replay buffer is that experiences can be *re-used* several times for training."
      ]
    },
    {
      "cell_type": "code",
      "execution_count": 44,
      "metadata": {
        "id": "8tv5dUH6ZyLr"
      },
      "outputs": [],
      "source": [
        "class TransitionMemory(object):\n",
        "  \"\"\"A simple Python replay buffer.\"\"\"\n",
        "\n",
        "  def __init__(self, max_size=10_000, batch_size=256):\n",
        "    self.batch_size = batch_size\n",
        "    self.buffer = collections.deque(maxlen=max_size)\n",
        "\n",
        "  def push(self, transition):\n",
        "\n",
        "    # add transition to the replay buffer\n",
        "    self.buffer.append(\n",
        "        (transition.obs, transition.action, transition.reward,\n",
        "          transition.next_obs, transition.done)\n",
        "    )\n",
        "\n",
        "\n",
        "  def is_ready(self):\n",
        "    return self.batch_size <= len(self.buffer)\n",
        "\n",
        "  def sample(self):\n",
        "    # Randomly sample a batch of transitions from the buffer\n",
        "    random_replay_sample = random.sample(self.buffer, self.batch_size)\n",
        "\n",
        "    # Batch the transitions together\n",
        "    obs_batch, action_batch, reward_batch, next_obs_batch, done_batch = zip(*random_replay_sample)\n",
        "\n",
        "    return Transition(\n",
        "        np.stack(obs_batch).astype(\"float32\"),\n",
        "        np.asarray(action_batch).astype(\"int32\"),\n",
        "        np.asarray(reward_batch).astype(\"float32\"),\n",
        "        np.stack(next_obs_batch).astype(\"float32\"),\n",
        "        np.asarray(done_batch).astype(\"float32\")\n",
        "    )\n",
        "\n",
        "# Instantiate the memory\n",
        "Q_LEARNING_MEMORY = TransitionMemory(max_size=10_000, batch_size=512)"
      ]
    },
    {
      "cell_type": "markdown",
      "metadata": {
        "id": "XbHk03VVUHAV"
      },
      "source": [
        "### **Random exploration**\n",
        "We almost have everything we need for a functioning Q-learning agent. But one problem is that if we always choose the action with the highest Q-value then the agent's policy will be completly *deterministic*. This means the agent will always choose the same strategy. This can pose a problem because at the start of training, the Q-network will be very inaccurate (i.e. a bad aproximation of the true Q-function) and the agent will consistently choose suboptimal actions. Moreover, the agent will never deviate from its suboptimal strategy and discover new, potentially more rewarding  actions. As a result, the Q-network remains inaccurate. Ideally, the agent should try out many different strategies in the beginning so that it can observe the outcomes (rewards) of its actions in different states and so improve its approximation of the Q-function.\n",
        "\n",
        "One easy way to ensure that the agent tries out many different actions is to let it choose some random actions, instead of the greedy (best) action all the time.\n",
        "\n",
        "---\n",
        "> **For you!**\n",
        ">\n",
        "> Implement a random action selector! This should be a function that, given the number of possible (discrete) actions, returns a random action.\n",
        "---\n",
        "\n",
        "\n",
        "\n",
        "**Useful methods:**\n",
        "\n",
        "*  `jax.random.randint` ([docs](https://jax.readthedocs.io/en/latest/_autosummary/jax.random.randint.html))"
      ]
    },
    {
      "cell_type": "code",
      "execution_count": 45,
      "metadata": {
        "id": "uUKkpMLXUtko"
      },
      "outputs": [],
      "source": [
        "def select_random_action(key, num_actions):\n",
        "\n",
        "    # YOUR CODE\n",
        "    # action = jax.random.randint(key, shape=(), minval=0, maxval=num_actions)\n",
        "    action = jax.random.randint(key,  (), 0,  num_actions)\n",
        "    # END YOUR CODE\n",
        "\n",
        "    return action"
      ]
    },
    {
      "cell_type": "code",
      "execution_count": 46,
      "metadata": {
        "id": "NO6va6S2Y40E",
        "colab": {
          "base_uri": "https://localhost:8080/"
        },
        "outputId": "a02f87ee-f327-419b-d5ec-a8e40952ecc8"
      },
      "outputs": [
        {
          "output_type": "stream",
          "name": "stdout",
          "text": [
            "Looks good!\n"
          ]
        }
      ],
      "source": [
        "#@title Check your implementation (run me) {display-mode: \"form\"}\n",
        "\n",
        "try:\n",
        "  random_key1 = random_key = jax.random.PRNGKey(6) # random key\n",
        "  random_key2 = random_key = jax.random.PRNGKey(1000) # random key\n",
        "  result1 = select_random_action(random_key1, 2)\n",
        "  result2 = select_random_action(random_key2, 2)\n",
        "\n",
        "  if result1 != 1 or result2 != 0:\n",
        "    print(\"Oops! It seems your implementation is incorrect.\")\n",
        "  else:\n",
        "    print(\"Looks good!\")\n",
        "except:\n",
        "  print(\"Oops! It seems your implementation is incorrect.\")"
      ]
    },
    {
      "cell_type": "markdown",
      "metadata": {
        "id": "8-kKDFT6XU6y"
      },
      "source": [
        "### **$\\varepsilon$-greedy action selection**\n",
        "At the start of training, when the accuracy of the Q-network is low, it is worthwhile for the agent to mostly take random actions so that it can learn about how good or bad certain actions are. However, as the accuracy of the Q-network improves, the agent should start taking fewer random actions and instead start choosing greedy actions with respect to the Q-values. Choosing the best actions given the current Q-network is referred to as **exploitation**. In RL, we typically denote the ratio of random to greedy actions by the value **epsilon** $\\varepsilon$. Epsilon is usually a decimal value in the interval $[0,1]$, where for example $\\varepsilon=0.4$ means that the agent chooses a random action 40% of the time and the greedy action 60% of the time. It is common in RL to linearly (or exponentially) decrease the value of epsilon over time so that the agent becomes increasingly greedy as the accuracy of its Q-network improves through learning.\n",
        "\n",
        "\n",
        "\n",
        "---\n",
        "> **For you!**\n",
        ">\n",
        "> Implement an $\\varepsilon$ decay schedule. This function should take the number of timesteps as input and return the current epsilon value.\n",
        "---\n"
      ]
    },
    {
      "cell_type": "code",
      "execution_count": 47,
      "metadata": {
        "id": "_qejnbCocurG"
      },
      "outputs": [],
      "source": [
        "EPSILON_DECAY_TIMESTEPS = 50000 # decay epsilon over 3000 timesteps\n",
        "EPSILON_MIN = 0.1 # 10% exploration"
      ]
    },
    {
      "cell_type": "code",
      "execution_count": 48,
      "metadata": {
        "id": "5ujSbssCZyLs"
      },
      "outputs": [],
      "source": [
        "def get_epsilon(num_timesteps):\n",
        "  # YOUR CODE\n",
        "  decay = num_timesteps / EPSILON_DECAY_TIMESTEPS\n",
        "  epsilon = 1 - decay\n",
        "\n",
        "  epsilon = jax.lax.select(\n",
        "      epsilon < EPSILON_MIN,\n",
        "      EPSILON_MIN, # if less than min then set to min\n",
        "      epsilon # else don't change epsilon\n",
        "  )\n",
        "  # END YOUR CODE\n",
        "\n",
        "  return epsilon"
      ]
    },
    {
      "cell_type": "code",
      "execution_count": 49,
      "metadata": {
        "id": "hvu4zA64aUou",
        "colab": {
          "base_uri": "https://localhost:8080/"
        },
        "outputId": "c7f95826-f452-423c-fba6-88fb2614027c"
      },
      "outputs": [
        {
          "output_type": "stream",
          "name": "stdout",
          "text": [
            "Oops! It seems your implementation is incorrect.\n"
          ]
        }
      ],
      "source": [
        "#@title Check your implementation (run me) {display-mode: \"form\"}\n",
        "def check_get_epsilon(get_epsilon):\n",
        "  try:\n",
        "    result1 = get_epsilon(10)\n",
        "    result2 = get_epsilon(5_010)\n",
        "\n",
        "    if result1 != 0.99666667 or result2 != 0.1:\n",
        "      print(\"Oops! It seems your implementation is incorrect.\")\n",
        "    else:\n",
        "      print(\"Looks good!\")\n",
        "  except:\n",
        "    print(\"Oops! It seems your implementation is incorrect.\")\n",
        "\n",
        "check_get_epsilon(get_epsilon)\n"
      ]
    },
    {
      "cell_type": "markdown",
      "metadata": {
        "id": "t56oo58TVQ_s"
      },
      "source": [
        "---\n",
        "> **For you!**\n",
        ">\n",
        "> Implement an $\\varepsilon$-greedy action selector incorporating the schedule from above.\n",
        "---"
      ]
    },
    {
      "cell_type": "code",
      "execution_count": 50,
      "metadata": {
        "id": "NlQx8K4vKUXj"
      },
      "outputs": [],
      "source": [
        "def select_epsilon_greedy_action(key, q_values, num_timesteps):\n",
        "    num_actions = len(q_values) # number of available actions\n",
        "\n",
        "    # YOUR CODE HERE\n",
        "    epsilon = get_epsilon(num_timesteps) # get epsilon value\n",
        "\n",
        "    should_explore = jax.random.uniform(key) < epsilon # hint: a boolean expression to check if some random number is less than epsilon\n",
        "\n",
        "    action = jax.lax.select(\n",
        "        should_explore,\n",
        "        select_random_action(key, 2),\n",
        "        select_greedy_action(q_values)\n",
        "    )\n",
        "    # END YOUR CODE\n",
        "\n",
        "    return action"
      ]
    },
    {
      "cell_type": "code",
      "execution_count": 51,
      "metadata": {
        "id": "mkVU2a5e7P6b",
        "colab": {
          "base_uri": "https://localhost:8080/"
        },
        "outputId": "6c8e81bd-41c5-45ff-d62a-906ca7807d08"
      },
      "outputs": [
        {
          "output_type": "stream",
          "name": "stdout",
          "text": [
            "Oops! It seems your implementation is incorrect.\n"
          ]
        }
      ],
      "source": [
        "#@title Check your implementation (run me) {display-mode: \"form\"}\n",
        "\n",
        "try:\n",
        "  rng = hk.PRNGSequence(jax.random.PRNGKey(42))\n",
        "  dummy_q_values = jnp.array([0,1], jnp.float32)\n",
        "  num_timesteps = 5010 # very greedy\n",
        "  actions1 = []\n",
        "  for i in range(10):\n",
        "      actions1.append(int(select_epsilon_greedy_action(next(rng), dummy_q_values, num_timesteps)))\n",
        "\n",
        "  num_timesteps = 0 # completly random\n",
        "  actions2 = []\n",
        "  for i in range(10):\n",
        "      actions2.append(int(select_epsilon_greedy_action(next(rng), dummy_q_values, num_timesteps)))\n",
        "\n",
        "  if actions1 != [1, 1, 0, 1, 1, 0, 1, 1, 1, 1] or actions2 != [0, 0, 0, 1, 1, 1, 1, 0, 0, 0]:\n",
        "    print(\"Oops! It seems your implementation is incorrect.\")\n",
        "  else:\n",
        "    print(\"Looks good!\")\n",
        "except:\n",
        "  print(\"Oops! It seems your implementation is incorrect.\")"
      ]
    },
    {
      "cell_type": "markdown",
      "metadata": {
        "id": "y5W23MnobN9x"
      },
      "source": [
        "### **Q-learning select action**\n",
        "\n",
        "We now have everything we need to make the `q_learning_select_action` function. We will use the `actor_state` to store a counter which keeps track of the current number of timesteps. We can use the counter to decrement our `epsilon` value."
      ]
    },
    {
      "cell_type": "code",
      "execution_count": 52,
      "metadata": {
        "id": "81TysLc0RjM6"
      },
      "outputs": [],
      "source": [
        "# Actor state stores the current number of timesteps\n",
        "QActorState = collections.namedtuple(\"ActorState\", [\"count\"])\n",
        "\n",
        "def q_learning_select_action(key, params, actor_state, obs, evaluation=False):\n",
        "    obs = jnp.expand_dims(obs, axis=0) # add dummy batch dim\n",
        "    q_values = Q_NETWORK.apply(params.online, obs)[0] # remove batch dim\n",
        "\n",
        "    action = select_epsilon_greedy_action(key, q_values, actor_state.count)\n",
        "    greedy_action = select_greedy_action(q_values)\n",
        "\n",
        "    action = jax.lax.select(\n",
        "        evaluation,\n",
        "        greedy_action,\n",
        "        action\n",
        "    )\n",
        "\n",
        "    next_actor_state = QActorState(actor_state.count + 1) # increment timestep counter\n",
        "\n",
        "    return action, next_actor_state\n",
        "\n",
        "Q_LEARNING_ACTOR_STATE = QActorState(0) # counter set to zero"
      ]
    },
    {
      "cell_type": "markdown",
      "metadata": {
        "id": "z884-1oNRGEr"
      },
      "source": [
        "### **Training**\n",
        "We can now put everything together using the agent-environment loop. We also `jit` the select action function and the learn function for some extra speed!"
      ]
    },
    {
      "cell_type": "code",
      "source": [
        "# Jit functions\n",
        "q_learning_select_action_jit = jax.jit(q_learning_select_action)\n",
        "q_learn_jit = jax.jit(q_learn)"
      ],
      "metadata": {
        "id": "OHBQzg1GcCOs"
      },
      "execution_count": 53,
      "outputs": []
    },
    {
      "cell_type": "code",
      "execution_count": 54,
      "metadata": {
        "id": "xbdHDbd1RjM8",
        "colab": {
          "base_uri": "https://localhost:8080/",
          "height": 1000
        },
        "outputId": "7aac4174-11df-47bd-abb3-80dfa9b7aa11"
      },
      "outputs": [
        {
          "output_type": "stream",
          "name": "stdout",
          "text": [
            "Starting training. This may take a few minutes to complete.\n",
            "Episode: 0\tEpsilon: 0.9984599947929382\tEpisode Return: -514.8741669908268\tAverage Episode Return: -514.8741669908268\tEvaluator Episode Return: -563.1436310866976\n",
            "Episode: 10\tEpsilon: 0.9838799834251404\tEpisode Return: -219.19790056070116\tAverage Episode Return: -425.3286502917092\tEvaluator Episode Return: -136.24904403028575\n",
            "Episode: 20\tEpsilon: 0.9699599742889404\tEpisode Return: -397.4469519113113\tAverage Episode Return: -388.41404254775415\tEvaluator Episode Return: -264.5721470897739\n",
            "Episode: 30\tEpsilon: 0.9569799900054932\tEpisode Return: -163.33500557762386\tAverage Episode Return: -342.26739329672597\tEvaluator Episode Return: -277.5978279529895\n",
            "Episode: 40\tEpsilon: 0.9436200261116028\tEpisode Return: -217.6681511880407\tAverage Episode Return: -333.9940553473093\tEvaluator Episode Return: -398.27746220736964\n",
            "Episode: 50\tEpsilon: 0.9303600192070007\tEpisode Return: -280.3452604472485\tAverage Episode Return: -318.7568039094695\tEvaluator Episode Return: -261.3306558766284\n",
            "Episode: 60\tEpsilon: 0.9158599972724915\tEpisode Return: -494.90619040480425\tAverage Episode Return: -327.9892105339267\tEvaluator Episode Return: -94.94144976502231\n",
            "Episode: 70\tEpsilon: 0.9023200273513794\tEpisode Return: -246.47904381830213\tAverage Episode Return: -342.6744585118609\tEvaluator Episode Return: -440.4451569123022\n",
            "Episode: 80\tEpsilon: 0.8874599933624268\tEpisode Return: -461.1457870305085\tAverage Episode Return: -364.83058287377713\tEvaluator Episode Return: -475.03804629600126\n",
            "Episode: 90\tEpsilon: 0.8732200264930725\tEpisode Return: -209.16014006117894\tAverage Episode Return: -356.5013534609775\tEvaluator Episode Return: -482.48470195401757\n",
            "Episode: 100\tEpsilon: 0.8597400188446045\tEpisode Return: -255.70841426936158\tAverage Episode Return: -296.4065332455172\tEvaluator Episode Return: -193.99195491668675\n",
            "Episode: 110\tEpsilon: 0.8452799916267395\tEpisode Return: -233.7925315267566\tAverage Episode Return: -296.5697623401917\tEvaluator Episode Return: -259.31853574707515\n",
            "Episode: 120\tEpsilon: 0.8310800194740295\tEpisode Return: -256.54252810233413\tAverage Episode Return: -309.5093395642719\tEvaluator Episode Return: -236.3648532736836\n",
            "Episode: 130\tEpsilon: 0.8158000111579895\tEpisode Return: -297.78860944262334\tAverage Episode Return: -310.2110624983563\tEvaluator Episode Return: -189.2965068511262\n",
            "Episode: 140\tEpsilon: 0.8007199764251709\tEpisode Return: -268.06487435882843\tAverage Episode Return: -301.2706096825932\tEvaluator Episode Return: -186.69877527792397\n",
            "Episode: 150\tEpsilon: 0.7858800292015076\tEpisode Return: -252.24207174688976\tAverage Episode Return: -262.1768544254076\tEvaluator Episode Return: -259.0187422407878\n",
            "Episode: 160\tEpsilon: 0.7706599831581116\tEpisode Return: -232.3227890931264\tAverage Episode Return: -243.4062131967343\tEvaluator Episode Return: -282.62062768843134\n",
            "Episode: 170\tEpsilon: 0.7560200095176697\tEpisode Return: -238.71507355531497\tAverage Episode Return: -237.06911555035057\tEvaluator Episode Return: -326.2661231519297\n",
            "Episode: 180\tEpsilon: 0.7400199770927429\tEpisode Return: -204.91235937415334\tAverage Episode Return: -231.59784576017728\tEvaluator Episode Return: -267.6612371868314\n",
            "Episode: 190\tEpsilon: 0.7245000004768372\tEpisode Return: -214.7935050433332\tAverage Episode Return: -218.47277368525732\tEvaluator Episode Return: -244.8813243594743\n",
            "Episode: 200\tEpsilon: 0.7087399959564209\tEpisode Return: -198.6894808359848\tAverage Episode Return: -205.41341746277985\tEvaluator Episode Return: -305.19675489108715\n",
            "Episode: 210\tEpsilon: 0.693120002746582\tEpisode Return: -123.10814884704561\tAverage Episode Return: -211.65809112843482\tEvaluator Episode Return: -312.679657087859\n",
            "Episode: 220\tEpsilon: 0.6780999898910522\tEpisode Return: -140.23030018468899\tAverage Episode Return: -169.44216121897574\tEvaluator Episode Return: -284.76317902133195\n",
            "Episode: 230\tEpsilon: 0.6618800163269043\tEpisode Return: -154.61644937242238\tAverage Episode Return: -153.6223753683327\tEvaluator Episode Return: -227.65402503415052\n",
            "Episode: 240\tEpsilon: 0.6455399990081787\tEpisode Return: 24.141695097749988\tAverage Episode Return: -154.9395988477289\tEvaluator Episode Return: -183.56999204929727\n",
            "Episode: 250\tEpsilon: 0.630020022392273\tEpisode Return: -193.86780919298047\tAverage Episode Return: -164.26007675808484\tEvaluator Episode Return: -192.43201441540384\n",
            "Episode: 260\tEpsilon: 0.6121600270271301\tEpisode Return: -146.66119514791018\tAverage Episode Return: -160.58909752420163\tEvaluator Episode Return: -189.31519233069264\n",
            "Episode: 270\tEpsilon: 0.5971999764442444\tEpisode Return: -152.911679473522\tAverage Episode Return: -131.52112503708125\tEvaluator Episode Return: -140.12749233308148\n",
            "Episode: 280\tEpsilon: 0.58160001039505\tEpisode Return: -76.92108110562262\tAverage Episode Return: -120.55003012229751\tEvaluator Episode Return: -124.123574101591\n",
            "Episode: 290\tEpsilon: 0.5660200119018555\tEpisode Return: -87.38377918694582\tAverage Episode Return: -109.43362431410617\tEvaluator Episode Return: -136.244854905824\n",
            "Episode: 300\tEpsilon: 0.5497199892997742\tEpisode Return: -111.68045665369588\tAverage Episode Return: -102.21038098779229\tEvaluator Episode Return: -124.88250420258993\n",
            "Episode: 310\tEpsilon: 0.5320799946784973\tEpisode Return: -112.84943867737091\tAverage Episode Return: -96.06690358827838\tEvaluator Episode Return: -119.17929160461347\n",
            "Episode: 320\tEpsilon: 0.5170599818229675\tEpisode Return: -185.80067886885624\tAverage Episode Return: -96.1598541505267\tEvaluator Episode Return: -94.61848795140192\n",
            "Episode: 330\tEpsilon: 0.4975399971008301\tEpisode Return: -76.0025500428195\tAverage Episode Return: -91.7993703617874\tEvaluator Episode Return: -108.3234573367108\n",
            "Episode: 340\tEpsilon: 0.4784199893474579\tEpisode Return: -125.31297435201742\tAverage Episode Return: -86.26972111562512\tEvaluator Episode Return: -120.80010752323436\n",
            "Episode: 350\tEpsilon: 0.45875999331474304\tEpisode Return: -77.66507576194155\tAverage Episode Return: -77.91153922638306\tEvaluator Episode Return: -139.11855310729928\n",
            "Episode: 360\tEpsilon: 0.44179999828338623\tEpisode Return: -91.945613898346\tAverage Episode Return: -79.00165402436787\tEvaluator Episode Return: -118.03225973003389\n",
            "Episode: 370\tEpsilon: 0.4204599857330322\tEpisode Return: -84.46115618952479\tAverage Episode Return: -83.31241112421307\tEvaluator Episode Return: -105.88515602779556\n",
            "Episode: 380\tEpsilon: 0.4007200002670288\tEpisode Return: -82.32692574600027\tAverage Episode Return: -70.76870759309384\tEvaluator Episode Return: -97.86977698748774\n",
            "Episode: 390\tEpsilon: 0.3762800097465515\tEpisode Return: -71.55931183971482\tAverage Episode Return: -59.5266366921589\tEvaluator Episode Return: -84.41511653584871\n",
            "Episode: 400\tEpsilon: 0.3541800081729889\tEpisode Return: -56.599223512615296\tAverage Episode Return: -56.227675254665996\tEvaluator Episode Return: -100.74840616953837\n",
            "Episode: 410\tEpsilon: 0.32409998774528503\tEpisode Return: 11.43051362599789\tAverage Episode Return: -48.50389698994496\tEvaluator Episode Return: -128.5579898202958\n",
            "Episode: 420\tEpsilon: 0.2777999937534332\tEpisode Return: -71.27898893786997\tAverage Episode Return: -30.689770580921483\tEvaluator Episode Return: -55.86519195965732\n",
            "Episode: 430\tEpsilon: 0.23204000294208527\tEpisode Return: -36.251400869878935\tAverage Episode Return: -15.994047753095609\tEvaluator Episode Return: -57.58027385429333\n",
            "Episode: 440\tEpsilon: 0.15644000470638275\tEpisode Return: 204.7273368441945\tAverage Episode Return: 28.40189642288741\tEvaluator Episode Return: -36.8000508479025\n",
            "Episode: 450\tEpsilon: 0.10000000149011612\tEpisode Return: 240.5407225643883\tAverage Episode Return: 76.63890462894065\tEvaluator Episode Return: 69.83938370775861\n",
            "Episode: 460\tEpsilon: 0.10000000149011612\tEpisode Return: -48.72805131450377\tAverage Episode Return: 38.817945640343495\tEvaluator Episode Return: -48.77998087760972\n",
            "Episode: 470\tEpsilon: 0.10000000149011612\tEpisode Return: -8.917621484582643\tAverage Episode Return: 22.640252140302948\tEvaluator Episode Return: 23.76644618684579\n",
            "Episode: 480\tEpsilon: 0.10000000149011612\tEpisode Return: -89.0262302978072\tAverage Episode Return: -9.65671994073443\tEvaluator Episode Return: -112.39628077556146\n",
            "Episode: 490\tEpsilon: 0.10000000149011612\tEpisode Return: -24.635465784611405\tAverage Episode Return: -45.77925851639792\tEvaluator Episode Return: -19.074725310972358\n",
            "Episode: 500\tEpsilon: 0.10000000149011612\tEpisode Return: 211.08876690570244\tAverage Episode Return: 12.618715479142153\tEvaluator Episode Return: 62.69062957395333\n",
            "Episode: 510\tEpsilon: 0.10000000149011612\tEpisode Return: 219.31436058035132\tAverage Episode Return: 59.63502278062033\tEvaluator Episode Return: 34.21191291952417\n",
            "Episode: 520\tEpsilon: 0.10000000149011612\tEpisode Return: -94.80920598883765\tAverage Episode Return: 81.17758562982888\tEvaluator Episode Return: 152.32644310810795\n",
            "Episode: 530\tEpsilon: 0.10000000149011612\tEpisode Return: 45.85887715985294\tAverage Episode Return: 88.38688094674903\tEvaluator Episode Return: 213.22173812109347\n",
            "Episode: 540\tEpsilon: 0.10000000149011612\tEpisode Return: 173.98456978910752\tAverage Episode Return: 128.10319341643265\tEvaluator Episode Return: 184.27369806784887\n",
            "Episode: 550\tEpsilon: 0.10000000149011612\tEpisode Return: 235.35728199023683\tAverage Episode Return: 170.23476230410935\tEvaluator Episode Return: 200.5939866191544\n",
            "Episode: 560\tEpsilon: 0.10000000149011612\tEpisode Return: 254.5703920902784\tAverage Episode Return: 171.9371888330906\tEvaluator Episode Return: 175.96891466289634\n",
            "Episode: 570\tEpsilon: 0.10000000149011612\tEpisode Return: 29.13386530414192\tAverage Episode Return: 150.05110157894435\tEvaluator Episode Return: 211.80979142396234\n",
            "Episode: 580\tEpsilon: 0.10000000149011612\tEpisode Return: -104.18168230902745\tAverage Episode Return: 121.5819351590934\tEvaluator Episode Return: 46.567876126911244\n",
            "Episode: 590\tEpsilon: 0.10000000149011612\tEpisode Return: 1.4022783509986283\tAverage Episode Return: 91.4373387639059\tEvaluator Episode Return: 109.11592503352625\n",
            "Episode: 600\tEpsilon: 0.10000000149011612\tEpisode Return: 246.12064910281455\tAverage Episode Return: 78.53307935872124\tEvaluator Episode Return: 114.33453322124696\n",
            "Episode: 610\tEpsilon: 0.10000000149011612\tEpisode Return: -39.699974764061764\tAverage Episode Return: 99.74678335664763\tEvaluator Episode Return: 202.02730812460214\n",
            "Episode: 620\tEpsilon: 0.10000000149011612\tEpisode Return: -24.996726456770432\tAverage Episode Return: 78.7176282442659\tEvaluator Episode Return: 75.58518127297305\n",
            "Episode: 630\tEpsilon: 0.10000000149011612\tEpisode Return: -18.915376480493492\tAverage Episode Return: 5.987825411660117\tEvaluator Episode Return: 81.64811150994284\n",
            "Episode: 640\tEpsilon: 0.10000000149011612\tEpisode Return: 292.1211121458574\tAverage Episode Return: 59.050828217128014\tEvaluator Episode Return: 123.23397824993748\n",
            "Episode: 650\tEpsilon: 0.10000000149011612\tEpisode Return: 237.98043627199723\tAverage Episode Return: 141.30376119769258\tEvaluator Episode Return: 103.88315921315494\n",
            "Episode: 660\tEpsilon: 0.10000000149011612\tEpisode Return: 240.4026497043991\tAverage Episode Return: 113.06475844219787\tEvaluator Episode Return: 255.66780262684125\n",
            "Episode: 670\tEpsilon: 0.10000000149011612\tEpisode Return: 199.83577633535856\tAverage Episode Return: 95.24658929070492\tEvaluator Episode Return: 216.52942434897247\n",
            "Episode: 680\tEpsilon: 0.10000000149011612\tEpisode Return: 226.109590350511\tAverage Episode Return: 142.569940347489\tEvaluator Episode Return: 214.7091347906269\n",
            "Episode: 690\tEpsilon: 0.10000000149011612\tEpisode Return: 236.6212597468597\tAverage Episode Return: 218.01715466987525\tEvaluator Episode Return: 258.85543146308373\n",
            "Episode: 700\tEpsilon: 0.10000000149011612\tEpisode Return: 222.36906801816139\tAverage Episode Return: 234.9506840484151\tEvaluator Episode Return: 160.53490720321682\n",
            "Episode: 710\tEpsilon: 0.10000000149011612\tEpisode Return: 271.3924261331312\tAverage Episode Return: 233.95209722957662\tEvaluator Episode Return: 194.9673685898167\n",
            "Episode: 720\tEpsilon: 0.10000000149011612\tEpisode Return: -16.6378205147347\tAverage Episode Return: 224.44254506914345\tEvaluator Episode Return: 126.19305995321676\n",
            "Episode: 730\tEpsilon: 0.10000000149011612\tEpisode Return: 260.6350200288967\tAverage Episode Return: 186.02796496787317\tEvaluator Episode Return: 230.7281450978926\n",
            "Episode: 740\tEpsilon: 0.10000000149011612\tEpisode Return: 252.35480549537212\tAverage Episode Return: 170.87722353508548\tEvaluator Episode Return: 215.76978906093413\n",
            "Episode: 750\tEpsilon: 0.10000000149011612\tEpisode Return: 238.91264698456973\tAverage Episode Return: 153.7173616584843\tEvaluator Episode Return: 210.90803254444043\n",
            "Episode: 760\tEpsilon: 0.10000000149011612\tEpisode Return: 231.95878921673835\tAverage Episode Return: 127.91117869669054\tEvaluator Episode Return: 224.2460763565125\n",
            "Episode: 770\tEpsilon: 0.10000000149011612\tEpisode Return: 66.98570731384362\tAverage Episode Return: 132.82314717906158\tEvaluator Episode Return: 208.79410017766946\n",
            "Episode: 780\tEpsilon: 0.10000000149011612\tEpisode Return: 216.16274774081646\tAverage Episode Return: 176.6568570941497\tEvaluator Episode Return: 245.15896776268346\n",
            "Episode: 790\tEpsilon: 0.10000000149011612\tEpisode Return: 274.9251023349281\tAverage Episode Return: 208.7311076572803\tEvaluator Episode Return: 217.35149634843145\n",
            "Episode: 800\tEpsilon: 0.10000000149011612\tEpisode Return: 255.6720904095052\tAverage Episode Return: 197.407693607899\tEvaluator Episode Return: 169.3845810307574\n",
            "Episode: 810\tEpsilon: 0.10000000149011612\tEpisode Return: -162.41447371452153\tAverage Episode Return: 147.63556643316815\tEvaluator Episode Return: 208.46742791565964\n",
            "Episode: 820\tEpsilon: 0.10000000149011612\tEpisode Return: 264.6218247372373\tAverage Episode Return: 148.94849626958438\tEvaluator Episode Return: 255.7795915448299\n",
            "Episode: 830\tEpsilon: 0.10000000149011612\tEpisode Return: 270.2281346605474\tAverage Episode Return: 174.36190628420647\tEvaluator Episode Return: 191.21624568468386\n",
            "Episode: 840\tEpsilon: 0.10000000149011612\tEpisode Return: -6.247714912628581\tAverage Episode Return: 178.12000119657867\tEvaluator Episode Return: 207.4979933321758\n",
            "Episode: 850\tEpsilon: 0.10000000149011612\tEpisode Return: 239.83836611949906\tAverage Episode Return: 174.46280606912543\tEvaluator Episode Return: 221.30950090988304\n",
            "Episode: 860\tEpsilon: 0.10000000149011612\tEpisode Return: 265.85269901439244\tAverage Episode Return: 118.50367428777918\tEvaluator Episode Return: 181.72097191024028\n",
            "Episode: 870\tEpsilon: 0.10000000149011612\tEpisode Return: 30.586102039097398\tAverage Episode Return: 110.98092695615034\tEvaluator Episode Return: 112.91183752251592\n",
            "Episode: 880\tEpsilon: 0.10000000149011612\tEpisode Return: -25.27789757464241\tAverage Episode Return: 101.13088047309023\tEvaluator Episode Return: 19.3976846274197\n",
            "Episode: 890\tEpsilon: 0.10000000149011612\tEpisode Return: 17.93071216727685\tAverage Episode Return: 91.2820579855447\tEvaluator Episode Return: 141.3826004428355\n",
            "Episode: 900\tEpsilon: 0.10000000149011612\tEpisode Return: 279.82727734776927\tAverage Episode Return: 114.42796677260715\tEvaluator Episode Return: 103.09089721028397\n",
            "Episode: 910\tEpsilon: 0.10000000149011612\tEpisode Return: 32.09904358100849\tAverage Episode Return: 86.81070155859399\tEvaluator Episode Return: -92.64486334279614\n",
            "Episode: 920\tEpsilon: 0.10000000149011612\tEpisode Return: -4.181135196007361\tAverage Episode Return: 6.256390673309317\tEvaluator Episode Return: 24.958068681527912\n",
            "Episode: 930\tEpsilon: 0.10000000149011612\tEpisode Return: 292.475025312575\tAverage Episode Return: 49.118040088599926\tEvaluator Episode Return: 52.2463247385047\n",
            "Episode: 940\tEpsilon: 0.10000000149011612\tEpisode Return: -331.4419507366722\tAverage Episode Return: 65.20890514647527\tEvaluator Episode Return: 148.75813880134413\n",
            "Episode: 950\tEpsilon: 0.10000000149011612\tEpisode Return: 275.82568601636683\tAverage Episode Return: 10.215316426063188\tEvaluator Episode Return: 156.85375033860058\n",
            "Episode: 960\tEpsilon: 0.10000000149011612\tEpisode Return: 249.39451068537707\tAverage Episode Return: 88.9068728923707\tEvaluator Episode Return: 149.0106092891907\n",
            "Episode: 970\tEpsilon: 0.10000000149011612\tEpisode Return: 35.485569041778916\tAverage Episode Return: 168.04856658988626\tEvaluator Episode Return: 149.60404812693952\n",
            "Episode: 980\tEpsilon: 0.10000000149011612\tEpisode Return: 267.4481587022764\tAverage Episode Return: 212.82975824971496\tEvaluator Episode Return: 240.09357393357632\n",
            "Episode: 990\tEpsilon: 0.10000000149011612\tEpisode Return: 299.1966074532311\tAverage Episode Return: 247.48070145476646\tEvaluator Episode Return: 233.59859007909802\n",
            "Episode: 1000\tEpsilon: 0.10000000149011612\tEpisode Return: 265.2198333541694\tAverage Episode Return: 243.12023222608522\tEvaluator Episode Return: 245.52980105716392\n"
          ]
        },
        {
          "output_type": "display_data",
          "data": {
            "text/plain": [
              "<Figure size 640x480 with 1 Axes>"
            ],
            "image/png": "[encoded data removed]"
          },
          "metadata": {}
        }
      ],
      "source": [
        "# Run environment loop\n",
        "print(\"Starting training. This may take a few minutes to complete.\")\n",
        "episode_returns, evaluator_returns = run_training_loop(\n",
        "                                        env_name,\n",
        "                                        Q_LEARNING_PARAMS,\n",
        "                                        q_learning_select_action_jit,\n",
        "                                        Q_LEARNING_ACTOR_STATE,\n",
        "                                        q_learn_jit,\n",
        "                                        Q_LEARNING_LEARN_STATE,\n",
        "                                        Q_LEARNING_MEMORY,\n",
        "                                        num_episodes=1001,\n",
        "                                        train_every_timestep=True, # do learning after every timestep\n",
        "                                        video_subdir=\"q_learning\"\n",
        "                                    )\n",
        "\n",
        "plt.plot(episode_returns)\n",
        "plt.xlabel(\"Episodes\")\n",
        "plt.ylabel(\"Episode Return\")\n",
        "plt.title(\"Deep Q-Learning\")\n",
        "plt.show()"
      ]
    },
    {
      "cell_type": "markdown",
      "metadata": {
        "id": "2k0-41wbpFDE"
      },
      "source": [
        "At this stage, the approximated Q-function hopefully converged to a decent policy for balancing the pole in the CartPole problem."
      ]
    },
    {
      "cell_type": "code",
      "execution_count": 61,
      "metadata": {
        "id": "t4v0ZbB4FQUs",
        "colab": {
          "base_uri": "https://localhost:8080/",
          "height": 288
        },
        "outputId": "9d836891-0926-4d3c-fa50-1fd36fa7d739"
      },
      "outputs": [
        {
          "output_type": "execute_result",
          "data": {
            "text/plain": [
              "<IPython.core.display.HTML object>"
            ],
            "text/html": [
              "\n",
              "<video width=400 controls>\n",
              "      <source src=\"data:video/mp4;base64,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\" type=\"video/mp4\">\n",
              "</video>\n"
            ]
          },
          "metadata": {},
          "execution_count": 61
        }
      ],
      "source": [
        "#@title Visualise Policy\n",
        "#@markdown Choose an episode number that is a multiple of 100 and less than or equal to 1000, and **run this cell**.\n",
        "\n",
        "episode_number = 800 #@param {type:\"number\"}\n",
        "\n",
        "assert (episode_number % 100) == 0, \"Episode number must be a multiple of 100 since we only record every 100th episode.\"\n",
        "assert episode_number < 1001, \"Episode number must be less than or equal to 1000\"\n",
        "\n",
        "eval_episode_number = int(episode_number / 100 * 80)\n",
        "video_path = f\"./video/q_learning/eval/rl-video-episode-{eval_episode_number}.mp4\"\n",
        "\n",
        "mp4 = open(video_path,'rb').read()\n",
        "data_url = \"data:video/mp4;base64,\" + b64encode(mp4).decode()\n",
        "HTML(\"\"\"\n",
        "<video width=400 controls>\n",
        "      <source src=\"%s\" type=\"video/mp4\">\n",
        "</video>\n",
        "\"\"\" % data_url)"
      ]
    },
    {
      "cell_type": "markdown",
      "metadata": {
        "id": "CIIteLdFwG4B"
      },
      "source": [
        "For the original research paper where DQN was first introduced, see here: [Playing Atari with Deep Reinforcement Learning](https://arxiv.org/abs/1312.5602). If you are interested, give the paper a read!"
      ]
    },
    {
      "cell_type": "code",
      "source": [],
      "metadata": {
        "id": "_F_hhyvrRa9V"
      },
      "execution_count": null,
      "outputs": []
    }
  ],
  "metadata": {
    "colab": {
      "provenance": [],
      "gpuType": "T4"
    },
    "kernelspec": {
      "display_name": "Python 3",
      "name": "python3"
    },
    "language_info": {
      "codemirror_mode": {
        "name": "ipython",
        "version": 3
      },
      "file_extension": ".py",
      "mimetype": "text/x-python",
      "name": "python",
      "nbconvert_exporter": "python",
      "pygments_lexer": "ipython3",
      "version": "3.8.13"
    },
    "vscode": {
      "interpreter": {
        "hash": "0f35138c66f99be0fd7a1210bb4aa94a6fbaa5f29d51ad43aec0e0ea0ff050f0"
      }
    },
    "accelerator": "GPU"
  },
  "nbformat": 4,
  "nbformat_minor": 0
}
